{
  "nbformat": 4,
  "nbformat_minor": 0,
  "metadata": {
    "colab": {
      "name": "Part_1_Introduction_to_Neural_Networks_with_TensorFlow_(Exercise).ipynb",
      "provenance": [],
      "collapsed_sections": [],
      "include_colab_link": true
    },
    "kernelspec": {
      "display_name": "Python 3",
      "language": "python",
      "name": "python3"
    },
    "language_info": {
      "codemirror_mode": {
        "name": "ipython",
        "version": 3
      },
      "file_extension": ".py",
      "mimetype": "text/x-python",
      "name": "python",
      "nbconvert_exporter": "python",
      "pygments_lexer": "ipython3",
      "version": "3.7.6"
    }
  },
  "cells": [
    {
      "cell_type": "markdown",
      "metadata": {
        "id": "view-in-github",
        "colab_type": "text"
      },
      "source": [
        "<a href=\"https://colab.research.google.com/github/Kasthuri67/Intro_to_ml_tensorflow_ND/blob/master/TensorFlow_Exercise/Part_1_Introduction_to_Neural_Networks_with_TensorFlow_(Exercise).ipynb\" target=\"_parent\"><img src=\"https://colab.research.google.com/assets/colab-badge.svg\" alt=\"Open In Colab\"/></a>"
      ]
    },
    {
      "cell_type": "markdown",
      "metadata": {
        "colab_type": "text",
        "id": "q9aaxiSJg60h"
      },
      "source": [
        "# Introduction to Neural Networks with TensorFlow\n",
        "\n",
        "In this notebook, you'll get introduced to [TensorFlow](https://www.tensorflow.org/), an open source library to help you develop and train machine learning models.\n",
        "\n",
        "TensorFlow in a lot of ways behaves like the arrays you love from NumPy. NumPy arrays, after all, are just tensors. TensorFlow takes these tensors and makes it simple to move them to GPUs for the faster processing needed when training neural networks. TensorFlow can also calculate gradients automatically, which is perfect for backpropagation, and has  intuitive high-level APIs specifically for building neural networks. "
      ]
    },
    {
      "cell_type": "markdown",
      "metadata": {
        "colab_type": "text",
        "id": "Q6WXEV-OiFY7"
      },
      "source": [
        "## Neural Networks\n",
        "\n",
        "Deep Learning is based on artificial neural networks which have been around in some form since the late 1950s. The networks are built from individual parts approximating neurons, typically called units or simply \"neurons.\" Each unit has some number of weighted inputs. These weighted inputs are summed together (a linear combination) then passed through an activation function to get the unit's output.\n",
        "\n",
        "<img src=\"assets/simple_neuron.png\" width=400px>\n",
        "\n",
        "Mathematically, the above looks like: \n",
        "\n",
        "$$\n",
        "y = f(h)\n",
        "$$\n",
        "\n",
        "where,\n",
        "\n",
        "$$\n",
        "h = w_1 x_1 + w_2 x_2 + b = \\sum_{i=1}^2 w_i x_i + b\n",
        "$$\n",
        "\n",
        "If we let $b = w_0x_0$, then we can express $h$ as the dot/inner product of two vectors:\n",
        "\n",
        "$$\n",
        "h = \\begin{bmatrix}\n",
        "x_0 \\, x_1 \\, x_2\n",
        "\\end{bmatrix}\n",
        "\\cdot \n",
        "\\begin{bmatrix}\n",
        "           w_0 \\\\\n",
        "           w_1 \\\\\n",
        "           w_2\n",
        "\\end{bmatrix} = w_0 x_0 + w_1 x_1 + w_2 x_2\n",
        "$$"
      ]
    },
    {
      "cell_type": "markdown",
      "metadata": {
        "colab_type": "text",
        "id": "AcBD-UAaiaUc"
      },
      "source": [
        "## Tensors\n",
        "\n",
        "It turns out neural network computations are just a bunch of linear algebra operations on *tensors*, a generalization of matrices. A vector is a 1-dimensional tensor, a matrix is a 2-dimensional tensor, an array with three indices is a 3-dimensional tensor (RGB color images for example). The fundamental data structure for neural networks are tensors and TensorFlow is built around tensors.\n",
        "\n",
        "<img src=\"assets/tensor_examples.svg\" width=600px>\n",
        "\n",
        "With the basics covered, it's time to explore how we can use TensorFlow to build a simple neural network."
      ]
    },
    {
      "cell_type": "markdown",
      "metadata": {
        "colab_type": "text",
        "id": "pt6qo5hiesm7"
      },
      "source": [
        "## Import Resources"
      ]
    },
    {
      "cell_type": "code",
      "metadata": {
        "colab_type": "code",
        "id": "adTiqrSxkPvL",
        "colab": {}
      },
      "source": [
        "import warnings\n",
        "warnings.filterwarnings('ignore')\n",
        "\n",
        "import numpy as np\n",
        "import tensorflow as tf"
      ],
      "execution_count": 0,
      "outputs": []
    },
    {
      "cell_type": "code",
      "metadata": {
        "id": "zWhFaogpZqOR",
        "colab_type": "code",
        "colab": {}
      },
      "source": [
        "import logging\n",
        "logger = tf.get_logger()\n",
        "logger.setLevel(logging.ERROR)"
      ],
      "execution_count": 0,
      "outputs": []
    },
    {
      "cell_type": "code",
      "metadata": {
        "colab_type": "code",
        "id": "jyZjjOb-V4eo",
        "outputId": "b1052bd0-334e-4267-beb0-50a99d7d4d2b",
        "colab": {
          "base_uri": "https://localhost:8080/",
          "height": 54
        }
      },
      "source": [
        "print('Using:')\n",
        "print('\\t\\u2022 TensorFlow version:', tf.__version__)"
      ],
      "execution_count": 3,
      "outputs": [
        {
          "output_type": "stream",
          "text": [
            "Using:\n",
            "\t• TensorFlow version: 2.2.0-rc2\n"
          ],
          "name": "stdout"
        }
      ]
    },
    {
      "cell_type": "markdown",
      "metadata": {
        "colab_type": "text",
        "id": "IVTYgypBfx2a"
      },
      "source": [
        "## Single Layer Neural Network"
      ]
    },
    {
      "cell_type": "code",
      "metadata": {
        "colab_type": "code",
        "id": "UDJArguZkLPJ",
        "colab": {
          "base_uri": "https://localhost:8080/",
          "height": 167
        },
        "outputId": "9d08662f-2277-46cd-bcbe-b6d933e251b4"
      },
      "source": [
        "# Set the random seed so things are reproducible\n",
        "tf.random.set_seed(7) \n",
        "\n",
        "# Create 5 random input features\n",
        "features = tf.random.normal((1, 5)) # no. of rows, columns\n",
        "\n",
        "# Create random weights for our neural network\n",
        "weights = tf.random.normal((1, 5))\n",
        "\n",
        "# Create a random bias term for our neural network\n",
        "bias = tf.random.normal((1, 1))\n",
        "\n",
        "print('Features:\\n', features)\n",
        "print('\\nWeights:\\n', weights)\n",
        "print('\\nBias:\\n', bias)"
      ],
      "execution_count": 4,
      "outputs": [
        {
          "output_type": "stream",
          "text": [
            "Features:\n",
            " tf.Tensor([[ 0.5983449   0.06276207  0.14631742  0.48481876 -0.23572342]], shape=(1, 5), dtype=float32)\n",
            "\n",
            "Weights:\n",
            " tf.Tensor([[-2.2733312  -1.6592104  -0.2633568  -0.80923414  1.0294315 ]], shape=(1, 5), dtype=float32)\n",
            "\n",
            "Bias:\n",
            " tf.Tensor([[1.5749502]], shape=(1, 1), dtype=float32)\n"
          ],
          "name": "stdout"
        }
      ]
    },
    {
      "cell_type": "markdown",
      "metadata": {
        "colab_type": "text",
        "id": "7o-2IomPkZx6"
      },
      "source": [
        "Above we generated data we can use to get the output of our simple network. This is all just random for now, going forward we'll start using real data. \n",
        "\n",
        "As we can see above, in TensorFlow, tensors are `tf.Tensor` objects that have a data type and a shape. Now let's go through each relevant line:\n",
        "\n",
        "* `features = tf.random.normal((1, 5))` creates a tensor with shape `(1, 5)`, one row and five columns, that contains random values from a normal distribution with a mean of zero and standard deviation of one.\n",
        "\n",
        "* `weights = tf.random.normal((1, 5))` creates a tensor with shape `(1, 5)`, one row and five columns, again containing random values from a normal distribution with a mean of zero and standard deviation of one.\n",
        "\n",
        "* `bias = tf.random.normal((1, 1))` creates a single random value from a normal distribution.\n",
        "\n",
        "TensorFlow's tensors can be added, multiplied, subtracted, etc., just like NumPy arrays. In general, you'll use TensorFlow's tensors pretty much the same way you'd use NumPy arrays. They come with some nice benefits though such as GPU acceleration which we'll get to later. For now, we will use the generated random data to calculate the output of this simple single layer network.\n",
        "\n",
        "Now we create the activation function we are going to use:"
      ]
    },
    {
      "cell_type": "code",
      "metadata": {
        "colab_type": "code",
        "id": "wmOi7zjFgsMM",
        "colab": {}
      },
      "source": [
        "def sigmoid_activation(x):\n",
        "    \"\"\" Sigmoid activation function\n",
        "    \n",
        "        Arguments\n",
        "        ---------\n",
        "        x: tf.Tensor. Must be one of the following types: bfloat16, half, float32, float64, complex64, complex128.\n",
        "    \"\"\"\n",
        "    return 1/(1+tf.exp(-x))"
      ],
      "execution_count": 0,
      "outputs": []
    },
    {
      "cell_type": "markdown",
      "metadata": {
        "colab_type": "text",
        "id": "57QrwP-0gny1"
      },
      "source": [
        "Now, let's calculate the output of our single layer neural network.\n",
        "\n",
        "> **Exercise**: Calculate the output of the network with input features `features`, weights `weights`, and bias `bias`. Similar to NumPy, TensorFlow has a `tf.multiply(a, b)` that multiplies tensors `a` and `b` element-wise. It also has `tf.reduce_sum(x)` that computes the sum of the elements of tensor `x`. Use the `sigmoid_activation` function defined above as the activation function."
      ]
    },
    {
      "cell_type": "code",
      "metadata": {
        "colab_type": "code",
        "id": "qujbYK1nkaW-",
        "colab": {
          "base_uri": "https://localhost:8080/",
          "height": 54
        },
        "outputId": "f509599c-62a7-4116-fd58-4ba91c05d234"
      },
      "source": [
        "## Solution\n",
        "y = sigmoid_activation(tf.reduce_sum(tf.multiply(features,weights))+ bias)\n",
        "\n",
        "print('label:\\n', y)"
      ],
      "execution_count": 9,
      "outputs": [
        {
          "output_type": "stream",
          "text": [
            "label:\n",
            " tf.Tensor([[0.3628656]], shape=(1, 1), dtype=float32)\n"
          ],
          "name": "stdout"
        }
      ]
    },
    {
      "cell_type": "markdown",
      "metadata": {
        "colab_type": "text",
        "id": "gx6LpDRakgOD"
      },
      "source": [
        "You can do the multiplication and sum in the same operation using a matrix multiplication. In general, you'll want to use matrix multiplications since they are more efficient and accelerated using modern libraries and high-performance computing on GPUs.\n",
        "\n",
        "Here, we want to do a matrix multiplication of the features and the weights. For this we can use `tf.matmul()`. If we try to do it with `features` and `weights` as they are, we'll get an error\n",
        "\n",
        "```python\n",
        ">> tf.matmul(features, weights)\n",
        "\n",
        "---------------------------------------------------------------------------\n",
        "InvalidArgumentError                      Traceback (most recent call last)\n",
        "<ipython-input-7-66a4fe44f20b> in <module>()\n",
        "      1 \n",
        "----> 2 y = sigmoid_activation(tf.matmul(features, weights) + bias)\n",
        "\n",
        "2 frames\n",
        "/usr/local/lib/python3.6/dist-packages/six.py in raise_from(value, from_value)\n",
        "\n",
        "InvalidArgumentError: Matrix size-incompatible: In[0]: [1,5], In[1]: [1,5] [Op:MatMul] name: MatMul/\n",
        "```\n",
        "\n",
        "As you're building neural networks in any framework, you'll see this often. Really often. What's happening here is our tensors aren't the correct shapes to perform a matrix multiplication. Remember that for matrix multiplications, the number of columns in the first tensor must equal to the number of rows in the second tensor. Both `features` and `weights` have the same shape, `(1, 5)`. This means we need to change the shape of `weights` to get the matrix multiplication to work.\n",
        "\n",
        "**Note:** To see the shape of a tensor called `tensor`, use `tensor.shape`. If you're building neural networks, you'll be using this method often."
      ]
    },
    {
      "cell_type": "code",
      "metadata": {
        "colab_type": "code",
        "id": "5flC0NB5uSlk",
        "colab": {
          "base_uri": "https://localhost:8080/",
          "height": 73
        },
        "outputId": "72c55bf8-ed32-499a-df3d-dc731e71b446"
      },
      "source": [
        "print('Features Shape:', features.shape)\n",
        "print('Weights Shape:', weights.shape)\n",
        "print('Bias Shape:', bias.shape)"
      ],
      "execution_count": 10,
      "outputs": [
        {
          "output_type": "stream",
          "text": [
            "Features Shape: (1, 5)\n",
            "Weights Shape: (1, 5)\n",
            "Bias Shape: (1, 1)\n"
          ],
          "name": "stdout"
        }
      ]
    },
    {
      "cell_type": "markdown",
      "metadata": {
        "colab_type": "text",
        "id": "lC0vZqQWvBon"
      },
      "source": [
        "Now, we need to change the shape of the `weights` tensor to get the matrix multiplication to work. However, if we use the `tf.matmul(a,b)` function, this will not be necessary because the `tf.matmul(a,b)` function has the `transpose_a` and `transpose_b` arguments that allows us to transpose the `a` or `b` tensors for the multiplication without actually changing the shape of the tensor permanently. Therefore, in this case we can use the argument `transpose_b = True` to transpose the `weights` tensor from `(1,5)` to `(5,1)` just for the multiplication.\n",
        "\n",
        "> **Exercise**: Calculate the output of our little network using matrix multiplication."
      ]
    },
    {
      "cell_type": "code",
      "metadata": {
        "colab_type": "code",
        "id": "iIQOahT4kg4H",
        "colab": {
          "base_uri": "https://localhost:8080/",
          "height": 54
        },
        "outputId": "c7b8d72c-a635-4cf4-fbd5-0b4ddb461a1b"
      },
      "source": [
        "## Solution\n",
        "y = sigmoid_activation(tf.matmul(features,weights,transpose_b=True)+bias)\n",
        "\n",
        "print('label:\\n', y)"
      ],
      "execution_count": 11,
      "outputs": [
        {
          "output_type": "stream",
          "text": [
            "label:\n",
            " tf.Tensor([[0.3628656]], shape=(1, 1), dtype=float32)\n"
          ],
          "name": "stdout"
        }
      ]
    },
    {
      "cell_type": "markdown",
      "metadata": {
        "colab_type": "text",
        "id": "pxzezexmkpzs"
      },
      "source": [
        "We can see that we get the same value as before. Now let's check that the shape of the `weights` tensor has not been permanently changed by the `transpose_b = True` argument. "
      ]
    },
    {
      "cell_type": "code",
      "metadata": {
        "colab_type": "code",
        "id": "XoESCJcLkrI5",
        "colab": {
          "base_uri": "https://localhost:8080/",
          "height": 36
        },
        "outputId": "95b1f08a-e2b9-4041-ff2a-5d6168278d84"
      },
      "source": [
        "print('Weights Shape:', weights.shape)"
      ],
      "execution_count": 12,
      "outputs": [
        {
          "output_type": "stream",
          "text": [
            "Weights Shape: (1, 5)\n"
          ],
          "name": "stdout"
        }
      ]
    },
    {
      "cell_type": "markdown",
      "metadata": {
        "colab_type": "text",
        "id": "hYAyS685kv4e"
      },
      "source": [
        "As we can see, the shape of the `weights` tensor remains unchanged."
      ]
    },
    {
      "cell_type": "markdown",
      "metadata": {
        "colab_type": "text",
        "id": "ktu4Jfq3kzWx"
      },
      "source": [
        "## Multi-Layer Neural Network\n",
        "\n",
        "That's how you can calculate the output for a single neuron. The real power of this algorithm happens when you start stacking these individual units into layers and stacks of layers, into a network of neurons. The output of one layer of neurons becomes the input for the next layer. With multiple input units and output units, we now need to express the weights as a matrix.\n",
        "\n",
        "<img src='assets/multilayer_diagram_weights.png' width=450px>\n",
        "\n",
        "In the diagram above, the first layer shown on the bottom are the inputs, understandably called the **input layer**. The middle layer is called the **hidden layer**, and the final layer (on the top) is the **output layer**. We can express this network mathematically with matrices and use matrix multiplication to get linear combinations for each unit in one operation. For example, the hidden layer (comprised of units $h_1$ and $h_2$) can be calculated as follows:\n",
        "\n",
        "$$\n",
        "\\vec{h} = [h_1 \\, h_2] = \n",
        "\\begin{bmatrix}\n",
        "x_1 \\, x_2 \\cdots \\, x_n\n",
        "\\end{bmatrix}\n",
        "\\cdot \n",
        "\\begin{bmatrix}\n",
        "           w_{11} & w_{12} \\\\\n",
        "           w_{21} &w_{22} \\\\\n",
        "           \\vdots &\\vdots \\\\\n",
        "           w_{n1} &w_{n2}\n",
        "\\end{bmatrix}\n",
        "$$\n",
        "\n",
        "The output for this small network is found by treating the hidden layer as inputs for the output unit. The network output is expressed simply as:\n",
        "\n",
        "$$\n",
        "y =  f_2 \\! \\left(\\, f_1 \\! \\left(\\vec{x} \\, \\mathbf{W_1}\\right) \\mathbf{W_2} \\right)\n",
        "$$"
      ]
    },
    {
      "cell_type": "code",
      "metadata": {
        "colab_type": "code",
        "id": "yWRfPCIKkwZb",
        "colab": {}
      },
      "source": [
        "# Set the random seed so things are reproducible\n",
        "tf.random.set_seed(7) \n",
        "\n",
        "# Create 3 random input features\n",
        "features = tf.random.normal((1,3))\n",
        "\n",
        "# Define the size of each layer in our network\n",
        "n_input = features.shape[1]     # Number of input units, must match number of input features\n",
        "n_hidden = 2                    # Number of hidden units \n",
        "n_output = 1                    # Number of output units\n",
        "\n",
        "# Create random weights connecting the inputs to the hidden layer\n",
        "W1 = tf.random.normal((n_input,n_hidden))\n",
        "\n",
        "# Create random weights connecting the hidden layer to the output layer\n",
        "W2 = tf.random.normal((n_hidden, n_output))\n",
        "\n",
        "# Create random bias terms for the hidden and output layers\n",
        "B1 = tf.random.normal((1,n_hidden))\n",
        "B2 = tf.random.normal((1, n_output))"
      ],
      "execution_count": 0,
      "outputs": []
    },
    {
      "cell_type": "markdown",
      "metadata": {
        "colab_type": "text",
        "id": "cCRRqGFik5N8"
      },
      "source": [
        "> **Exercise:** Calculate the output for this multi-layer network using the weights `W1` & `W2`, and the biases, `B1` & `B2`. "
      ]
    },
    {
      "cell_type": "code",
      "metadata": {
        "colab_type": "code",
        "id": "eKKfk_jyk5_n",
        "colab": {
          "base_uri": "https://localhost:8080/",
          "height": 36
        },
        "outputId": "f255248b-15b1-4eb9-871d-f905ea4788f4"
      },
      "source": [
        "## Solution\n",
        "h_output = sigmoid_activation(tf.matmul(features,W1)+B1)\n",
        "output =  sigmoid_activation(tf.matmul(h_output,W2)+B2)\n",
        "print(output)"
      ],
      "execution_count": 17,
      "outputs": [
        {
          "output_type": "stream",
          "text": [
            "tf.Tensor([[0.10678572]], shape=(1, 1), dtype=float32)\n"
          ],
          "name": "stdout"
        }
      ]
    },
    {
      "cell_type": "markdown",
      "metadata": {
        "colab_type": "text",
        "id": "9Q1QzBpFlAFj"
      },
      "source": [
        "If you did this correctly, you should see the output: `tf.Tensor([[0.10678572]], shape=(1, 1), dtype=float32)`\n",
        "\n",
        "The number of hidden units is a parameter of the network, often called a **hyperparameter** to differentiate it from the weights and biases parameters. As you'll see later when we discuss training a neural network, the more hidden layers and units a network has, the better able it will be able to learn from data and make accurate predictions."
      ]
    },
    {
      "cell_type": "markdown",
      "metadata": {
        "colab_type": "text",
        "id": "qASlsncVlDRi"
      },
      "source": [
        "## NumPy to TensorFlow and Back\n",
        "\n",
        "This is a special bonus section! TensorFlow has a great feature for converting between NumPy's `ndarrays` and its `tf.Tensors`. To create a tensor from a NumPy ndarray, use `tf.convert_to_tensor()`. To convert a tensor to a NumPy array, use the `.numpy()` method. Below are some examples:"
      ]
    },
    {
      "cell_type": "code",
      "metadata": {
        "colab_type": "code",
        "id": "5MHSE0uqlAsS",
        "colab": {
          "base_uri": "https://localhost:8080/",
          "height": 111
        },
        "outputId": "dc150077-3522-4d37-f630-2ba80f449caf"
      },
      "source": [
        "# Set the random seed so things are reproducible\n",
        "tf.random.set_seed(7) \n",
        "\n",
        "a = np.random.rand(4,3)\n",
        "\n",
        "print(type(a))\n",
        "print(a)"
      ],
      "execution_count": 18,
      "outputs": [
        {
          "output_type": "stream",
          "text": [
            "<class 'numpy.ndarray'>\n",
            "[[0.74453214 0.068949   0.8120235 ]\n",
            " [0.68764325 0.05937279 0.29399692]\n",
            " [0.88244328 0.55659995 0.00339384]\n",
            " [0.61000833 0.71509088 0.70776531]]\n"
          ],
          "name": "stdout"
        }
      ]
    },
    {
      "cell_type": "code",
      "metadata": {
        "colab_type": "code",
        "id": "VceuFk3GlKKL",
        "colab": {
          "base_uri": "https://localhost:8080/",
          "height": 111
        },
        "outputId": "7de514e6-e98a-4e32-95da-b60c1344e0b1"
      },
      "source": [
        "b = tf.convert_to_tensor(a)\n",
        "\n",
        "print(b)"
      ],
      "execution_count": 19,
      "outputs": [
        {
          "output_type": "stream",
          "text": [
            "tf.Tensor(\n",
            "[[0.74453214 0.068949   0.8120235 ]\n",
            " [0.68764325 0.05937279 0.29399692]\n",
            " [0.88244328 0.55659995 0.00339384]\n",
            " [0.61000833 0.71509088 0.70776531]], shape=(4, 3), dtype=float64)\n"
          ],
          "name": "stdout"
        }
      ]
    },
    {
      "cell_type": "code",
      "metadata": {
        "colab_type": "code",
        "id": "QOh6E9SBlMzj",
        "colab": {
          "base_uri": "https://localhost:8080/",
          "height": 111
        },
        "outputId": "5470d5a7-52b0-4ac6-94b8-340cfe6e19f8"
      },
      "source": [
        "c = b.numpy()\n",
        "\n",
        "print(type(c))\n",
        "print(c)"
      ],
      "execution_count": 20,
      "outputs": [
        {
          "output_type": "stream",
          "text": [
            "<class 'numpy.ndarray'>\n",
            "[[0.74453214 0.068949   0.8120235 ]\n",
            " [0.68764325 0.05937279 0.29399692]\n",
            " [0.88244328 0.55659995 0.00339384]\n",
            " [0.61000833 0.71509088 0.70776531]]\n"
          ],
          "name": "stdout"
        }
      ]
    },
    {
      "cell_type": "markdown",
      "metadata": {
        "colab_type": "text",
        "id": "Ua9iXmXBlP4M"
      },
      "source": [
        "If you change the values of the Tensor, the values of the ndarray will not change, and vice-versa."
      ]
    },
    {
      "cell_type": "code",
      "metadata": {
        "colab_type": "code",
        "id": "BC_O_BcOlTHa",
        "colab": {
          "base_uri": "https://localhost:8080/",
          "height": 111
        },
        "outputId": "cced09ad-c4a1-4186-e162-6499b3ed7bb6"
      },
      "source": [
        "# Multiply TensorFlow Tensor by 40\n",
        "b = b * 40\n",
        "\n",
        "print(b)"
      ],
      "execution_count": 21,
      "outputs": [
        {
          "output_type": "stream",
          "text": [
            "tf.Tensor(\n",
            "[[29.78128541  2.75795992 32.48093989]\n",
            " [27.5057301   2.37491143 11.75987672]\n",
            " [35.29773114 22.26399807  0.13575362]\n",
            " [24.40033333 28.60363502 28.31061252]], shape=(4, 3), dtype=float64)\n"
          ],
          "name": "stdout"
        }
      ]
    },
    {
      "cell_type": "code",
      "metadata": {
        "colab_type": "code",
        "id": "R1gxSglFlV2R",
        "colab": {
          "base_uri": "https://localhost:8080/",
          "height": 92
        },
        "outputId": "064efce9-7e48-40bf-be9a-7ecdcf5b75f2"
      },
      "source": [
        "# NumPy array stays the same\n",
        "a"
      ],
      "execution_count": 23,
      "outputs": [
        {
          "output_type": "execute_result",
          "data": {
            "text/plain": [
              "array([[0.74453214, 0.068949  , 0.8120235 ],\n",
              "       [0.68764325, 0.05937279, 0.29399692],\n",
              "       [0.88244328, 0.55659995, 0.00339384],\n",
              "       [0.61000833, 0.71509088, 0.70776531]])"
            ]
          },
          "metadata": {
            "tags": []
          },
          "execution_count": 23
        }
      ]
    },
    {
      "cell_type": "code",
      "metadata": {
        "colab_type": "code",
        "id": "4tkHnTSbNKdE",
        "colab": {
          "base_uri": "https://localhost:8080/",
          "height": 92
        },
        "outputId": "a8ae3f09-251b-4846-ea52-79cf96187128"
      },
      "source": [
        "# NumPy array stays the same\n",
        "c"
      ],
      "execution_count": 22,
      "outputs": [
        {
          "output_type": "execute_result",
          "data": {
            "text/plain": [
              "array([[0.74453214, 0.068949  , 0.8120235 ],\n",
              "       [0.68764325, 0.05937279, 0.29399692],\n",
              "       [0.88244328, 0.55659995, 0.00339384],\n",
              "       [0.61000833, 0.71509088, 0.70776531]])"
            ]
          },
          "metadata": {
            "tags": []
          },
          "execution_count": 22
        }
      ]
    },
    {
      "cell_type": "code",
      "metadata": {
        "colab_type": "code",
        "id": "z_vdtpxnlYUN",
        "colab": {
          "base_uri": "https://localhost:8080/",
          "height": 92
        },
        "outputId": "5aad300a-0d09-4ea0-d0d1-b40f61a691e3"
      },
      "source": [
        "# Add 1 to NumPy ndarray\n",
        "a = a + 1\n",
        "\n",
        "print(a)"
      ],
      "execution_count": 24,
      "outputs": [
        {
          "output_type": "stream",
          "text": [
            "[[1.74453214 1.068949   1.8120235 ]\n",
            " [1.68764325 1.05937279 1.29399692]\n",
            " [1.88244328 1.55659995 1.00339384]\n",
            " [1.61000833 1.71509088 1.70776531]]\n"
          ],
          "name": "stdout"
        }
      ]
    },
    {
      "cell_type": "code",
      "metadata": {
        "colab_type": "code",
        "id": "sdtiRFFDlblU",
        "colab": {
          "base_uri": "https://localhost:8080/",
          "height": 111
        },
        "outputId": "fe14f461-b72e-4a8d-ad14-addf409d4fe5"
      },
      "source": [
        "# Tensor stays the same\n",
        "print(b)"
      ],
      "execution_count": 25,
      "outputs": [
        {
          "output_type": "stream",
          "text": [
            "tf.Tensor(\n",
            "[[29.78128541  2.75795992 32.48093989]\n",
            " [27.5057301   2.37491143 11.75987672]\n",
            " [35.29773114 22.26399807  0.13575362]\n",
            " [24.40033333 28.60363502 28.31061252]], shape=(4, 3), dtype=float64)\n"
          ],
          "name": "stdout"
        }
      ]
    },
    {
      "cell_type": "code",
      "metadata": {
        "id": "spXsXwi_ZqPt",
        "colab_type": "code",
        "colab": {
          "base_uri": "https://localhost:8080/",
          "height": 92
        },
        "outputId": "4afc30eb-9c5c-40b6-cac4-4a8efffab8c5"
      },
      "source": [
        "# NumPy array stays the same\n",
        "c"
      ],
      "execution_count": 26,
      "outputs": [
        {
          "output_type": "execute_result",
          "data": {
            "text/plain": [
              "array([[0.74453214, 0.068949  , 0.8120235 ],\n",
              "       [0.68764325, 0.05937279, 0.29399692],\n",
              "       [0.88244328, 0.55659995, 0.00339384],\n",
              "       [0.61000833, 0.71509088, 0.70776531]])"
            ]
          },
          "metadata": {
            "tags": []
          },
          "execution_count": 26
        }
      ]
    },
    {
      "cell_type": "code",
      "metadata": {
        "id": "MrgKL8w18Hpr",
        "colab_type": "code",
        "colab": {}
      },
      "source": [
        ""
      ],
      "execution_count": 0,
      "outputs": []
    }
  ]
}